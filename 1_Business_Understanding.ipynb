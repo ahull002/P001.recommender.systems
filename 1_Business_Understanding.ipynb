{
 "cells": [
  {
   "cell_type": "markdown",
   "metadata": {},
   "source": [
    "# Capstone 2 Springboard\n",
    "### MFOM Service Desk Analytics\n",
    "### Phase I. Business Understanding.\n",
    "\n",
    "### Background\n",
    "\n",
    "MFOM Service-Desk analytics describes the process of capturing, processing, and analyzing the data generated from the execution of ITSM a service system to improve, extend, and personalize service to create value for both providers and customers.\n",
    "\n",
    "Over the past decade, Information Technology (IT) Service Management (ITSM) has become increasingly imperative to an organization's IT strategy, and organizations are seeking new ways to enhance IT service delivery and efficiency via better ITSM processes. This requirement increases the importance of establishing, observing, measuring and reporting on vital Key Performance Indicators (KPIs). However, due to the overwhelmingly large amounts of data available , users find it difficult to manually access, follow, and analyze critical help desk information instantly. Using advanced data analytics, managers can then identify data quality and performance opportunities, hidden trends, and gaps in their ITSM process as well as make accurate, timely decisions by monitoring key metrics. Once you have established a solid analytics foundation, this developed skill-set is immediately transferable to other projects as well.\n",
    "\n",
    "\n",
    "![crisp-dm-phases](Data/crisp-dm-phases.png)\n",
    "\n",
    "__Contraints, limitations, and assumptions__\n",
    "\n",
    "> • _Constraint 1:_ The success of the model will depend on how good the prediction of material failure is based on historical observations in the curated data. For instance after analyzing several observations of data after X period of months pertaining to consistent machine utilization hours the model's predictions will be based on future and consistent occurences similar to the recorded and analyzed observations in the past. \n",
    "\n",
    "> • _Limitations 1:_ In order to predict the likelihood of a future material failure for a machine after X period of running hours, we would need to know how many hours the machine is expected to run in the future: which we do not know \"accurately\" today. \n",
    "\n",
    "> • _Assumptions 1:_ The classification model will be able to communicated probablities at various run levels to address this limitation. \n",
    "\n",
    "\n",
    "### Business Case\n",
    "\n",
    "PMW 150’s leadership stated that “we are sitting on a mountain of data.” Their management challenged both MFOM and NTCSS in taking a more in-depth look at service desk data to see what is there. To answer this inquiry, MFOM leadership has responded with the following efforts:\n",
    "\n",
    "\n",
    "___Set objectives:___\n",
    "> 1.\tDeploy business analytics methodologies in conducting exploratory data analysis (EDA).\n",
    "> 2.\tDeploy business analytics methodologies to automate and tune reporting requirements to free service-desk resources time in closing tickets and harden data-quality efforts.\n",
    "> 3.\tEngage the team in establishing meta-data tagging conventions and data dictionaries to more formally and consistently utilize open text fields for efficient and impactful tracking.\n",
    "> 4.\tCollaborate with Data Analytics professionals, SME installers, and help-desk staff to structure value hierarchies (drop-down selection criteria) to support strategic decision making. Ex. Account (split into three): New Account, Password Reset,  Modify Account\n",
    "\n",
    "___Who might care:___\n",
    "> PMW 150 Leadership and other Naval Service Desk centers using summary fields to collect information from the fleet.\n",
    "\n",
    "___Cost and benefits:___\n",
    "> 1. Helps identify the root of a problem (or source of satisfaction).\n",
    "With open-ended questions, customers are given the chance to identify what is or isn’t to their satisfaction and why. For example, if multiple visitors are leaving items in their shopping cart without purchasing them, your text analytics will likely reveal this trend with recurring words such as ‘shopping cart’, ‘purchase’ or ‘checkout’ and the sentiments behind those words, etc.\n",
    "\n",
    "> 2. Enables emerging trends to surface that many feedback surveys limit or restrict.\n",
    "Sure, you can see if your NPS is rising or falling, but you can’t explain why that is happening unless you have an explanation from the customers themselves. Text analytics helps users visualise trending feedback categories and resolve them in a timely manner.\n",
    "\n",
    "> 3. Issues can be prioritised quickly and efficiently.\n",
    "By identifying the most frequently used words or using word pairing, you will know right away which areas you need to focus on, or which areas you are excelling in. This ensures the quick and easy resolution of an issue.\n",
    "\n",
    "> 4. Customers’ ideas and suggestions materialise, leading to an enhanced digital experience.\n",
    "Opinions and thoughts that you would have never heard otherwise are brought to the surface, enabling you to provide an optimal customer experience and keep your customers happy"
   ]
  },
  {
   "cell_type": "code",
   "execution_count": null,
   "metadata": {},
   "outputs": [],
   "source": []
  }
 ],
 "metadata": {
  "kernelspec": {
   "display_name": "Python 3",
   "language": "python",
   "name": "python3"
  },
  "language_info": {
   "codemirror_mode": {
    "name": "ipython",
    "version": 3
   },
   "file_extension": ".py",
   "mimetype": "text/x-python",
   "name": "python",
   "nbconvert_exporter": "python",
   "pygments_lexer": "ipython3",
   "version": "3.7.3"
  }
 },
 "nbformat": 4,
 "nbformat_minor": 4
}
